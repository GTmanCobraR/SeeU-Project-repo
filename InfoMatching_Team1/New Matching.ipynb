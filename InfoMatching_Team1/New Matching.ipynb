{
 "cells": [
  {
   "cell_type": "code",
   "execution_count": 1,
   "id": "c37af3b6",
   "metadata": {},
   "outputs": [],
   "source": [
    "import numpy as np\n",
    "import pandas as pd\n",
    "from sqlalchemy import create_engine\n",
    "from sklearn.metrics.pairwise import cosine_similarity\n",
    "import pymysql\n",
    "from openai import OpenAI\n",
    "import json"
   ]
  },
  {
   "cell_type": "code",
   "execution_count": 2,
   "id": "956e203e",
   "metadata": {},
   "outputs": [],
   "source": [
    "host = \"svc-c73ce0ea-2976-4fec-8231-9b8c8bbdf115-dml.aws-virginia-8.svc.singlestore.com\"\n",
    "port = 3306\n",
    "user = \"admin\"\n",
    "password = \"y42sJU2U6sdKYKZgU9kEhDiFvTenJhlv\"\n",
    "database = \"openaidatabase\"\n",
    "\n",
    "connection_string = f\"mysql+pymysql://{user}:{password}@{host}:{port}/{database}\"\n",
    "engine = create_engine(connection_string)"
   ]
  },
  {
   "cell_type": "code",
   "execution_count": null,
   "id": "ff6dd4f9",
   "metadata": {},
   "outputs": [],
   "source": [
    "import json\n",
    "\n",
    "try:\n",
    "    top_amount = 10\n",
    "\n",
    "    resumes_query = \"\"\"\n",
    "        SELECT names AS resume_id, resume_sembeddings, years_of_experience AS resume_experience, \n",
    "               major, skills \n",
    "        FROM resumes_data;\n",
    "    \"\"\"\n",
    "    \n",
    "    # need job_id as unique id for all jobs\n",
    "    jd_query = \"\"\"\n",
    "        SELECT company_name, required_major, skills AS jd_skills, \n",
    "               years_of_experience AS jd_experience, jd_embeddings \n",
    "        FROM JD_data;\n",
    "    \"\"\"\n",
    "\n",
    "    resumes_df = pd.read_sql(resumes_query, con=engine)\n",
    "    jd_df = pd.read_sql(jd_query, con=engine)\n",
    "\n",
    "    \n",
    "    jd_text = jd_df[['company_name', 'required_major', 'jd_skills', 'jd_experience']].to_json(orient='records')\n",
    "    resume_text = resumes_df[['resume_id', 'major', 'skills', 'resume_experience']].to_json(orient='records')\n",
    "\n",
    "    # DeepSeek API needs to be setup\n",
    "    client = OpenAI(api_key=\"<DeepSeek API Key>\", base_url=\"https://api.deepseek.com\")\n",
    "\n",
    "    response = client.chat.completions.create(\n",
    "        model=\"deepseek-reasoner\",\n",
    "        messages=[\n",
    "            {\"role\": \"user\", \"content\": \"These are Job Descriptions\\n\" + jd_text},\n",
    "            {\"role\": \"user\", \"content\": \"Theese are Resumes：\\n\" + resume_text},\n",
    "            {\"role\": \"user\", \"content\": \"Please match the resumes to job descriptions based on major, skills, and years of experience. Return the top \" + str(top_amount) + \" most relevant job postings in JSON format.\"}\n",
    "        ],\n",
    "        stream=False\n",
    "    )\n",
    "\n",
    "    \n",
    "    all_results = json.loads(response.choices[0].message.content)\n",
    "\n",
    "    \n",
    "    final_results_df = pd.DataFrame(all_results)\n",
    "\n",
    "    \n",
    "    output_path = \"jd_resume_major_keywords_results.csv\"\n",
    "    final_results_df.to_csv(output_path, index=False)\n",
    "    print(f\"匹配结果已保存为 {output_path} 文件\")\n",
    "\n",
    "except Exception as e:\n",
    "    print(\"Error occurred:\", e)\n",
    "\n",
    "finally:\n",
    "    engine.dispose()\n"
   ]
  }
 ],
 "metadata": {
  "kernelspec": {
   "display_name": "Python 3 (ipykernel)",
   "language": "python",
   "name": "python3"
  },
  "language_info": {
   "codemirror_mode": {
    "name": "ipython",
    "version": 3
   },
   "file_extension": ".py",
   "mimetype": "text/x-python",
   "name": "python",
   "nbconvert_exporter": "python",
   "pygments_lexer": "ipython3",
   "version": "3.9.7"
  }
 },
 "nbformat": 4,
 "nbformat_minor": 5
}
